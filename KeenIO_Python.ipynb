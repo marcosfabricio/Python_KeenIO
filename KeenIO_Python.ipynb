{
 "cells": [
  {
   "cell_type": "markdown",
   "metadata": {},
   "source": [
    "# Acessando KeenIO com Python usando Jupyter\n",
    "Autor: Marcos André Fabrício\n",
    "\n",
    "E-mail: marcosandre.web@gmail.com\n",
    ">A seguir, está um exemplo de conecção e impressão de resultado de uma \"consulta criada\" no KeenIO usando Python\n"
   ]
  },
  {
   "cell_type": "code",
   "execution_count": null,
   "metadata": {},
   "outputs": [],
   "source": [
    "# Isntalar os pacotes necessários\n",
    "pip install requests\n",
    "pip install jsonlib\n",
    "pip install pprint"
   ]
  },
  {
   "cell_type": "code",
   "execution_count": null,
   "metadata": {},
   "outputs": [],
   "source": [
    "# importar pacotes\n",
    "# request: para realizar requisições\n",
    "# json: para trabalhar com o json resoltado da requisição\n",
    "# pprint: para imprimir resultados de json de forma estruturada\n",
    "import requests\n",
    "import json\n",
    "import pprint"
   ]
  },
  {
   "cell_type": "code",
   "execution_count": null,
   "metadata": {},
   "outputs": [],
   "source": [
    "# se conectar no keenio em uma consulta já salva\n",
    "response = requests.get(\"url da api da consulta no KeenIO\")"
   ]
  },
  {
   "cell_type": "markdown",
   "metadata": {},
   "source": [
    "200"
   ]
  },
  {
   "cell_type": "code",
   "execution_count": null,
   "metadata": {},
   "outputs": [],
   "source": [
    "# printando status\n",
    "print(response.status_code)"
   ]
  },
  {
   "cell_type": "markdown",
   "metadata": {},
   "source": [
    "b'{\"result\": 10937}'"
   ]
  },
  {
   "cell_type": "code",
   "execution_count": null,
   "metadata": {},
   "outputs": [],
   "source": [
    "# printar o conteúdo do request\n",
    "pprint.pprint(response.content)"
   ]
  },
  {
   "cell_type": "code",
   "execution_count": null,
   "metadata": {},
   "outputs": [],
   "source": [
    "# colocando o conteúdo do json do response dentro de uma variável para trabalhar\n",
    "data = response.json()"
   ]
  },
  {
   "cell_type": "code",
   "execution_count": null,
   "metadata": {},
   "outputs": [],
   "source": [
    "# printando o json\n",
    "pprint.pprint(data)"
   ]
  },
  {
   "cell_type": "markdown",
   "metadata": {},
   "source": [
    "{'result': 10937}"
   ]
  },
  {
   "cell_type": "markdown",
   "metadata": {},
   "source": [
    "## Consultando um eventos isolados no KeenIO\n",
    "Tipos de análises do KeenIO\n",
    "1. sum\n",
    "2. count\n",
    "3. count_unique\n",
    "84. minimum\n",
    "5. maximum\n",
    "6. average\n",
    "7. select_unique\n",
    "8. extraction\n",
    "9. percentile\n",
    "10. median\n",
    "11. funnel\n",
    "\n",
    "Primeiro é preciso instalar a biblioteca do keenIO, que permitirá se comunicar diretamente com a solução KeenIO.\n",
    "Para isso, utilize o comando **pip** _(caso necessário, atualize este comendo)_"
   ]
  },
  {
   "cell_type": "code",
   "execution_count": null,
   "metadata": {},
   "outputs": [],
   "source": [
    "# Isntalar os pacotes necessários\n",
    "pip intall --upgrade keen"
   ]
  },
  {
   "cell_type": "code",
   "execution_count": null,
   "metadata": {},
   "outputs": [],
   "source": [
    "# Importe os pacotes para trabalhar com data/time, keenIO e o cliente do keen\n",
    "import keen\n",
    "from keen.client import KeenClient"
   ]
  },
  {
   "cell_type": "code",
   "execution_count": null,
   "metadata": {},
   "outputs": [],
   "source": [
    "# Indique qual o número do projeto e a chave para acessar a conta no KeenIO. \n",
    "# Essas informações são fornecidas na sua conta do KeenIO\n",
    "\n",
    "KEEN_PROJECT_ID = \"coloque o id do projeto do keenio\"\n",
    "KEEN_READ_KEY = \"coloque a chave de leitura do keenio\""
   ]
  },
  {
   "cell_type": "code",
   "execution_count": null,
   "metadata": {},
   "outputs": [],
   "source": [
    "# Usando o KeenClient para passar as informações de projeto e chave para dentro de uma variável \"client\"\n",
    "client = KeenClient(\n",
    "    project_id=KEEN_PROJECT_ID,\n",
    "    read_key=KEEN_READ_KEY\n",
    ")"
   ]
  },
  {
   "cell_type": "code",
   "execution_count": null,
   "metadata": {},
   "outputs": [],
   "source": [
    "# Para este exemplo, estou verificando a quantidade de acessos na home de um site\n",
    "# A variável \"Timeframe\" dentro da chamada, serve para passar a faixa de tempo que se deseja analisar.\n",
    "\n",
    "acessos_home = client.count(\n",
    "    \"nome do Stream\",\n",
    "    timeframe={\"start\":\"2019-08-28T00:00:00.000\",\"end\":\"2019-08-29T00:00:00.000\"}\n",
    ")\n",
    "\n",
    "pprint.pprint(acessos_home)"
   ]
  },
  {
   "cell_type": "markdown",
   "metadata": {},
   "source": [
    "10989"
   ]
  },
  {
   "cell_type": "code",
   "execution_count": null,
   "metadata": {},
   "outputs": [],
   "source": [
    "# Usando timeframe com tempo relativo sobre o hoje. Para isso, usa-se o \"this_numero de dias_período\"\n",
    "\n",
    "acessos_home = client.count(\n",
    "    \"nome do Stream\",\n",
    "    timeframe={\"this_14_days\"}\n",
    ")\n",
    "\n",
    "pprint.pprint(acessos_home)"
   ]
  },
  {
   "cell_type": "markdown",
   "metadata": {},
   "source": [
    "129484"
   ]
  },
  {
   "cell_type": "code",
   "execution_count": null,
   "metadata": {},
   "outputs": [],
   "source": [
    "# Usando timeframe com tempo relativo sobre o hoje. Para isso, usa-se o \"this_numero de dias_período\"\n",
    "\n",
    "acessos_home = client.count(\n",
    "    \"nome do Stream\",\n",
    "    timeframe={\"this_14_days\"}\n",
    ")\n",
    "\n",
    "pprint.pprint(acessos_home)"
   ]
  },
  {
   "cell_type": "markdown",
   "metadata": {},
   "source": [
    "## Utilizando agrupamento e ordenação"
   ]
  },
  {
   "cell_type": "code",
   "execution_count": null,
   "metadata": {},
   "outputs": [],
   "source": [
    "# Guardando o resultado do \"count\" do \"maestro:home\" dentro da variável acessos_home\n",
    "# É possível usar as mesmas possibilidades do keenIO. Por exemplo: group_by\n",
    "# \"user.rolesSelected.perfil\", onde \"user\" é parte do evento e \"rolesSelected.perfil\" é um valor de \"user\"\n",
    "\n",
    "acessos_home = client.count(\n",
    "    \"nome do Stream\",\n",
    "    timeframe={\"this_14_days\"}, \n",
    "    group_by= {\"user.rolesSelected.perfil\"} \n",
    ")\n",
    "\n",
    "pprint.pprint(acessos_home)"
   ]
  },
  {
   "cell_type": "markdown",
   "metadata": {},
   "source": [
    "[{'result': 1, 'user.rolesSelected.perfil': ''},\n",
    "\n",
    " {'result': 218, 'user.rolesSelected.perfil': 'perfil_0'},\n",
    " \n",
    " {'result': 117571, 'user.rolesSelected.perfil': 'perfil_1'},\n",
    " \n",
    " {'result': 929, 'user.rolesSelected.perfil': 'perfil_2'},\n",
    " \n",
    " {'result': 65, 'user.rolesSelected.perfil': 'perfil_3'},\n",
    " \n",
    " {'result': 10623, 'user.rolesSelected.perfil': 'perfil_4'},\n",
    " \n",
    " {'result': 83, 'user.rolesSelected.perfil': perfil_5}]"
   ]
  },
  {
   "cell_type": "markdown",
   "metadata": {},
   "source": [
    "Esse mesmo resultado foi obtido acessando uma consulta já pronta no keenIO. Mas a vantagem aqui, é que não foi precisa criar previamente essa consulta. Além disso, aqui, podede-se manipular livremente esses dados\n",
    "___________\n",
    "**acesses_home**, em um primeiro momento, pode parecer uma lista. Se executar o **type**, isso pode ser verificado:"
   ]
  },
  {
   "cell_type": "code",
   "execution_count": null,
   "metadata": {},
   "outputs": [],
   "source": [
    "print (type(acessos_home))"
   ]
  },
  {
   "cell_type": "markdown",
   "metadata": {},
   "source": [
    "<class 'list'>"
   ]
  },
  {
   "cell_type": "markdown",
   "metadata": {},
   "source": [
    "Contudo, é uma lista composta de chave e valor. No caso a chave **result** e o **valor** de result, a chave **user.relesSelected.perfil** e a chave. Ou seja, NÃO é uma lista, mas sim um DICIONÁRIO DE DADOS.\n",
    "___________\n",
    "Para converter o dicionário de dados em tabela, vou usar o PANDAS."
   ]
  },
  {
   "cell_type": "code",
   "execution_count": null,
   "metadata": {},
   "outputs": [],
   "source": [
    "# 1º é preciso importar as bilibotecas\n",
    "import numpy as np \n",
    "import pandas as pd "
   ]
  },
  {
   "cell_type": "code",
   "execution_count": null,
   "metadata": {},
   "outputs": [],
   "source": [
    "# Converter o dicionário de dados acesso_home em um DataFrame\n",
    "df_Acessos_Home = pd.DataFrame.from_dict(acessos_home)\n",
    "df_Acessos_Maestro_Home"
   ]
  },
  {
   "cell_type": "markdown",
   "metadata": {},
   "source": [
    "<img src=\"pprint_acessos_home.png\" width=\"300px\">"
   ]
  },
  {
   "cell_type": "code",
   "execution_count": null,
   "metadata": {},
   "outputs": [],
   "source": [
    "# Criando os títulos da coluna em uma variável\n",
    "titulo_coluna = [\"Qtd_Acessos\", \"Perfil\"]"
   ]
  },
  {
   "cell_type": "code",
   "execution_count": null,
   "metadata": {},
   "outputs": [],
   "source": [
    "# Colocando os títulos da coluna no DataFrame Acessos_Maestro_Home\n",
    "df_Acessos_Maestro_Home.columns = titulo_coluna\n",
    "df_Acessos_Maestro_Home"
   ]
  }
 ],
 "metadata": {
  "kernelspec": {
   "display_name": "Python 3",
   "language": "python",
   "name": "python3"
  },
  "language_info": {
   "codemirror_mode": {
    "name": "ipython",
    "version": 3
   },
   "file_extension": ".py",
   "mimetype": "text/x-python",
   "name": "python",
   "nbconvert_exporter": "python",
   "pygments_lexer": "ipython3",
   "version": "3.7.4"
  }
 },
 "nbformat": 4,
 "nbformat_minor": 2
}
